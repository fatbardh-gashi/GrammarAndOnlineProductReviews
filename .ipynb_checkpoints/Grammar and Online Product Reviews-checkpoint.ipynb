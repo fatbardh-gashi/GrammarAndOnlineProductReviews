{
 "cells": [
  {
   "cell_type": "markdown",
   "id": "253cdb08-1e61-4a1b-b24d-989533b685a4",
   "metadata": {},
   "source": [
    "# Grammar and Online Product Reviews"
   ]
  },
  {
   "cell_type": "markdown",
   "id": "0b86fa1f-a93f-4237-a653-7390374b92e4",
   "metadata": {},
   "source": [
    "#### -------------------------------------------------------------------------------------------------------------------------------------------------"
   ]
  },
  {
   "cell_type": "markdown",
   "id": "7a1a230c-180b-4afe-af7b-87208a941b81",
   "metadata": {},
   "source": [
    "#### This is a list of over 71,045 reviews from 1,000 different products provided by Datafiniti's Product Database. The dataset includes the text and title of the review, the name and manufacturer of the product, reviewer metadata, and more."
   ]
  },
  {
   "cell_type": "markdown",
   "id": "f079d602-d005-40b6-a59d-26c995af26aa",
   "metadata": {},
   "source": [
    "#### -------------------------------------------------------------------------------------------------------------------------------------------------"
   ]
  },
  {
   "cell_type": "markdown",
   "id": "1277bf3c-6b06-4573-bea2-354d4e9a3b4c",
   "metadata": {},
   "source": [
    "#### Import libraries"
   ]
  },
  {
   "cell_type": "code",
   "execution_count": 31,
   "id": "5125fb41-f6c8-4923-9f73-8e9d20f04a7c",
   "metadata": {},
   "outputs": [
    {
     "ename": "ModuleNotFoundError",
     "evalue": "No module named 'keras'",
     "output_type": "error",
     "traceback": [
      "\u001b[1;31m---------------------------------------------------------------------------\u001b[0m",
      "\u001b[1;31mModuleNotFoundError\u001b[0m                       Traceback (most recent call last)",
      "\u001b[1;32m~\\AppData\\Local\\Temp/ipykernel_9148/1509106872.py\u001b[0m in \u001b[0;36m<module>\u001b[1;34m\u001b[0m\n\u001b[0;32m      5\u001b[0m \u001b[1;32mimport\u001b[0m \u001b[0mre\u001b[0m\u001b[1;33m\u001b[0m\u001b[1;33m\u001b[0m\u001b[0m\n\u001b[0;32m      6\u001b[0m \u001b[1;32mimport\u001b[0m \u001b[0mdatetime\u001b[0m \u001b[1;32mas\u001b[0m \u001b[0mdt\u001b[0m\u001b[1;33m\u001b[0m\u001b[1;33m\u001b[0m\u001b[0m\n\u001b[1;32m----> 7\u001b[1;33m \u001b[1;32mfrom\u001b[0m \u001b[0mkeras\u001b[0m\u001b[1;33m.\u001b[0m\u001b[0mpreprocessing\u001b[0m\u001b[1;33m.\u001b[0m\u001b[0mtext\u001b[0m \u001b[1;32mimport\u001b[0m \u001b[0mTokenizer\u001b[0m\u001b[1;33m\u001b[0m\u001b[1;33m\u001b[0m\u001b[0m\n\u001b[0m",
      "\u001b[1;31mModuleNotFoundError\u001b[0m: No module named 'keras'"
     ]
    }
   ],
   "source": [
    "import string\n",
    "import numpy as np\n",
    "import pandas as pd\n",
    "import seaborn as sns\n",
    "import re\n",
    "import datetime as dt"
   ]
  },
  {
   "cell_type": "markdown",
   "id": "692ff986-98c8-4b59-84db-6d6fe0d0f5ed",
   "metadata": {},
   "source": [
    "#### -------------------------------------------------------------------------------------------------------------------------------------------------"
   ]
  },
  {
   "cell_type": "markdown",
   "id": "c73109a8-44e5-484d-a166-1cabb516b4b5",
   "metadata": {},
   "source": [
    "#### Read the dataset"
   ]
  },
  {
   "cell_type": "code",
   "execution_count": 2,
   "id": "6359fc86-fa1c-48cb-bd33-c9cce66e88c0",
   "metadata": {},
   "outputs": [],
   "source": [
    "original_dataset = pd.read_csv('GrammarandProductReviews.csv')\n",
    "nlp_dataset = original_dataset"
   ]
  },
  {
   "cell_type": "markdown",
   "id": "cd16b677-e774-43ca-bf51-38504b98cb40",
   "metadata": {},
   "source": [
    "#### -------------------------------------------------------------------------------------------------------------------------------------------------"
   ]
  },
  {
   "cell_type": "markdown",
   "id": "a9da6ece-c7f6-41e6-a186-06f166b5c694",
   "metadata": {},
   "source": [
    "## 1. Data preprocessing based on NLP Tasks"
   ]
  },
  {
   "cell_type": "code",
   "execution_count": 3,
   "id": "77dd763d-08e8-4016-9275-6944cd6b1302",
   "metadata": {},
   "outputs": [
    {
     "data": {
      "text/plain": [
       "(71044, 25)"
      ]
     },
     "execution_count": 3,
     "metadata": {},
     "output_type": "execute_result"
    }
   ],
   "source": [
    "nlp_dataset.shape"
   ]
  },
  {
   "cell_type": "code",
   "execution_count": 4,
   "id": "f070ed9b-8209-40dc-a842-a55ec84e2a7e",
   "metadata": {},
   "outputs": [
    {
     "data": {
      "text/plain": [
       "id                          0\n",
       "brand                       0\n",
       "categories                  0\n",
       "dateAdded                   0\n",
       "dateUpdated                 0\n",
       "ean                     31979\n",
       "keys                        0\n",
       "manufacturer              141\n",
       "manufacturerNumber        203\n",
       "name                        0\n",
       "reviews.date               67\n",
       "reviews.dateAdded           0\n",
       "reviews.dateSeen            0\n",
       "reviews.didPurchase     38886\n",
       "reviews.doRecommend     10615\n",
       "reviews.id              38886\n",
       "reviews.numHelpful      38536\n",
       "reviews.rating              0\n",
       "reviews.sourceURLs          0\n",
       "reviews.text               36\n",
       "reviews.title             476\n",
       "reviews.userCity        65634\n",
       "reviews.userProvince    70595\n",
       "reviews.username           96\n",
       "upc                         2\n",
       "dtype: int64"
      ]
     },
     "execution_count": 4,
     "metadata": {},
     "output_type": "execute_result"
    }
   ],
   "source": [
    "nlp_dataset.isnull().sum()"
   ]
  },
  {
   "cell_type": "markdown",
   "id": "45ff461f-9c10-4897-aa9b-a7057be251bb",
   "metadata": {},
   "source": [
    "#### -------------------------------------------------------------------------------------------------------------------------------------------------"
   ]
  },
  {
   "cell_type": "markdown",
   "id": "dd645db1-9bf4-4a2d-899c-315d14f529fe",
   "metadata": {},
   "source": [
    "#### Filtering columns `reviews.didPurchase` and `reviews.text` "
   ]
  },
  {
   "cell_type": "code",
   "execution_count": 5,
   "id": "e4872fa1-5549-4907-acc1-13bef6e18af2",
   "metadata": {},
   "outputs": [],
   "source": [
    "nlp_dataset.dropna(subset = ['reviews.text'], inplace=True) ## 36 null values\n",
    "## nlp_dataset.dropna(subset = ['reviews.didPurchase'], inplace=True) \n",
    "nlp_dataset.dropna(subset = ['reviews.doRecommend'], inplace=True) ## 10615 null values \n",
    "nlp_dataset.dropna(subset = ['reviews.title'], inplace=True) ## 476 null values"
   ]
  },
  {
   "cell_type": "markdown",
   "id": "da16f04c-5ba4-491a-ba90-34542d43e16b",
   "metadata": {},
   "source": [
    "#### Dimension of the dataset after filtering, removing the null values"
   ]
  },
  {
   "cell_type": "code",
   "execution_count": 6,
   "id": "0d04bcd0-2865-4ae1-88e2-8c1096b3dcc1",
   "metadata": {},
   "outputs": [
    {
     "data": {
      "text/plain": [
       "(60340, 25)"
      ]
     },
     "execution_count": 6,
     "metadata": {},
     "output_type": "execute_result"
    }
   ],
   "source": [
    "nlp_dataset.shape"
   ]
  },
  {
   "cell_type": "code",
   "execution_count": 7,
   "id": "2fbb14d0-4d41-4b97-9941-ef75a035ba27",
   "metadata": {},
   "outputs": [
    {
     "data": {
      "text/plain": [
       "33159"
      ]
     },
     "execution_count": 7,
     "metadata": {},
     "output_type": "execute_result"
    }
   ],
   "source": [
    "nlp_dataset['reviews.didPurchase'].isnull().sum()"
   ]
  },
  {
   "cell_type": "code",
   "execution_count": 8,
   "id": "feb2a94c-1a13-4c66-a01a-200184c0c73d",
   "metadata": {},
   "outputs": [
    {
     "data": {
      "text/plain": [
       "0"
      ]
     },
     "execution_count": 8,
     "metadata": {},
     "output_type": "execute_result"
    }
   ],
   "source": [
    "nlp_dataset['reviews.text'].isnull().sum()"
   ]
  },
  {
   "cell_type": "code",
   "execution_count": 9,
   "id": "2a26156d-1a19-4e69-ab77-df3a06074859",
   "metadata": {},
   "outputs": [
    {
     "data": {
      "text/plain": [
       "0"
      ]
     },
     "execution_count": 9,
     "metadata": {},
     "output_type": "execute_result"
    }
   ],
   "source": [
    "nlp_dataset['reviews.doRecommend'].isnull().sum()"
   ]
  },
  {
   "cell_type": "code",
   "execution_count": 10,
   "id": "a57f421c-0cd4-4289-a1c8-49f9770db515",
   "metadata": {},
   "outputs": [
    {
     "data": {
      "text/plain": [
       "0"
      ]
     },
     "execution_count": 10,
     "metadata": {},
     "output_type": "execute_result"
    }
   ],
   "source": [
    "nlp_dataset['reviews.title'].isnull().sum()"
   ]
  },
  {
   "cell_type": "code",
   "execution_count": 11,
   "id": "39d40af7-0d88-418a-bac3-4664d5193bd7",
   "metadata": {},
   "outputs": [
    {
     "data": {
      "text/plain": [
       "True    60340\n",
       "Name: reviews.doRecommend, dtype: int64"
      ]
     },
     "execution_count": 11,
     "metadata": {},
     "output_type": "execute_result"
    }
   ],
   "source": [
    "## (nlp_dataset['reviews.didPurchase'] == nlp_dataset['reviews.doRecommend']).where(nlp_dataset['reviews.didPurchase'].notnull()).value_counts()\n",
    "nlp_dataset['reviews.doRecommend'].notnull().value_counts()"
   ]
  },
  {
   "cell_type": "code",
   "execution_count": 12,
   "id": "dd460abb-9dee-4dbc-a85f-184928d73e56",
   "metadata": {},
   "outputs": [],
   "source": [
    "nlp_dataset['reviews.didPurchase'].fillna(nlp_dataset['reviews.doRecommend'], inplace=True)"
   ]
  },
  {
   "cell_type": "code",
   "execution_count": 13,
   "id": "f5ba303c-ffee-4d79-8da0-48c9556b7536",
   "metadata": {},
   "outputs": [
    {
     "data": {
      "text/plain": [
       "0"
      ]
     },
     "execution_count": 13,
     "metadata": {},
     "output_type": "execute_result"
    }
   ],
   "source": [
    "nlp_dataset['reviews.didPurchase'].isnull().sum()"
   ]
  },
  {
   "cell_type": "code",
   "execution_count": 14,
   "id": "6ae66cc3-117e-47eb-a0e6-54acf8d8e6ba",
   "metadata": {},
   "outputs": [
    {
     "data": {
      "text/plain": [
       "0"
      ]
     },
     "execution_count": 14,
     "metadata": {},
     "output_type": "execute_result"
    }
   ],
   "source": [
    "nlp_dataset.duplicated().sum()"
   ]
  },
  {
   "cell_type": "code",
   "execution_count": 15,
   "id": "bd298453-b6eb-42b1-b538-e06987ad886b",
   "metadata": {},
   "outputs": [
    {
     "name": "stdout",
     "output_type": "stream",
     "text": [
      "<class 'pandas.core.frame.DataFrame'>\n",
      "Int64Index: 60340 entries, 3 to 71043\n",
      "Data columns (total 25 columns):\n",
      " #   Column                Non-Null Count  Dtype  \n",
      "---  ------                --------------  -----  \n",
      " 0   id                    60340 non-null  object \n",
      " 1   brand                 60340 non-null  object \n",
      " 2   categories            60340 non-null  object \n",
      " 3   dateAdded             60340 non-null  object \n",
      " 4   dateUpdated           60340 non-null  object \n",
      " 5   ean                   30576 non-null  object \n",
      " 6   keys                  60340 non-null  object \n",
      " 7   manufacturer          60199 non-null  object \n",
      " 8   manufacturerNumber    60162 non-null  object \n",
      " 9   name                  60340 non-null  object \n",
      " 10  reviews.date          60340 non-null  object \n",
      " 11  reviews.dateAdded     60340 non-null  object \n",
      " 12  reviews.dateSeen      60340 non-null  object \n",
      " 13  reviews.didPurchase   60340 non-null  bool   \n",
      " 14  reviews.doRecommend   60340 non-null  object \n",
      " 15  reviews.id            27181 non-null  float64\n",
      " 16  reviews.numHelpful    32384 non-null  float64\n",
      " 17  reviews.rating        60340 non-null  int64  \n",
      " 18  reviews.sourceURLs    60340 non-null  object \n",
      " 19  reviews.text          60340 non-null  object \n",
      " 20  reviews.title         60340 non-null  object \n",
      " 21  reviews.userCity      3212 non-null   object \n",
      " 22  reviews.userProvince  301 non-null    object \n",
      " 23  reviews.username      60287 non-null  object \n",
      " 24  upc                   60340 non-null  object \n",
      "dtypes: bool(1), float64(2), int64(1), object(21)\n",
      "memory usage: 11.6+ MB\n"
     ]
    }
   ],
   "source": [
    "nlp_dataset.info()"
   ]
  },
  {
   "cell_type": "markdown",
   "id": "e7c99346-be15-4f2b-b9cb-f5a08a5c0e8e",
   "metadata": {},
   "source": [
    "#### Input and output variables"
   ]
  },
  {
   "cell_type": "code",
   "execution_count": 16,
   "id": "98f79055-b3c7-4b97-b30a-12ce802a2c4d",
   "metadata": {},
   "outputs": [],
   "source": [
    "reviews = nlp_dataset['reviews.text']\n",
    "y = nlp_dataset['reviews.didPurchase']"
   ]
  },
  {
   "cell_type": "markdown",
   "id": "55404635-b310-4c74-bb8d-8ebd5b2e68e4",
   "metadata": {},
   "source": [
    "#### Number of purchased and not purchased products"
   ]
  },
  {
   "cell_type": "code",
   "execution_count": 17,
   "id": "c7ead892-83f4-4ba7-9a71-a08fdaafd778",
   "metadata": {},
   "outputs": [
    {
     "data": {
      "text/html": [
       "<div>\n",
       "<style scoped>\n",
       "    .dataframe tbody tr th:only-of-type {\n",
       "        vertical-align: middle;\n",
       "    }\n",
       "\n",
       "    .dataframe tbody tr th {\n",
       "        vertical-align: top;\n",
       "    }\n",
       "\n",
       "    .dataframe thead th {\n",
       "        text-align: right;\n",
       "    }\n",
       "</style>\n",
       "<table border=\"1\" class=\"dataframe\">\n",
       "  <thead>\n",
       "    <tr style=\"text-align: right;\">\n",
       "      <th></th>\n",
       "      <th>Review Purchased</th>\n",
       "    </tr>\n",
       "  </thead>\n",
       "  <tbody>\n",
       "    <tr>\n",
       "      <th>True</th>\n",
       "      <td>35149</td>\n",
       "    </tr>\n",
       "    <tr>\n",
       "      <th>False</th>\n",
       "      <td>25191</td>\n",
       "    </tr>\n",
       "  </tbody>\n",
       "</table>\n",
       "</div>"
      ],
      "text/plain": [
       "       Review Purchased\n",
       "True              35149\n",
       "False             25191"
      ]
     },
     "execution_count": 17,
     "metadata": {},
     "output_type": "execute_result"
    }
   ],
   "source": [
    "y.value_counts().to_frame().rename(columns = {'reviews.didPurchase' : 'Review Purchased'})"
   ]
  },
  {
   "cell_type": "markdown",
   "id": "842dd1c5-d71a-47ed-b10f-3bf35597cdc2",
   "metadata": {},
   "source": [
    "#### Removing columns `id`, `ean`, `keys`, `manufacturer`, `manufacturerNumber`, `reviews.id`, `reviews.sourceURLs`, `upc`, `reviews.UserCity`, `reviews.userProvince`, `reviews.username`, `reviews.numHelpful`"
   ]
  },
  {
   "cell_type": "code",
   "execution_count": 18,
   "id": "2d18d30c-39ac-44f0-acda-a98aff06d81e",
   "metadata": {},
   "outputs": [],
   "source": [
    "nlp_dataset.drop(['id', 'categories', 'ean', 'keys', 'manufacturer', 'manufacturerNumber', 'reviews.id', 'reviews.sourceURLs', 'upc', 'reviews.userCity', 'dateUpdated', 'reviews.dateSeen', 'reviews.userProvince', 'reviews.username', 'reviews.dateAdded', 'reviews.numHelpful'], axis=1, inplace=True)"
   ]
  },
  {
   "cell_type": "code",
   "execution_count": 19,
   "id": "8899815e-bd58-4dcd-ac1c-c2eea6a42aa3",
   "metadata": {},
   "outputs": [
    {
     "data": {
      "text/plain": [
       "(60340, 9)"
      ]
     },
     "execution_count": 19,
     "metadata": {},
     "output_type": "execute_result"
    }
   ],
   "source": [
    "nlp_dataset.shape"
   ]
  },
  {
   "cell_type": "code",
   "execution_count": 20,
   "id": "31c1f17d-9bce-4340-b67c-5c4dbb4576ab",
   "metadata": {},
   "outputs": [
    {
     "data": {
      "text/plain": [
       "brand                  0\n",
       "dateAdded              0\n",
       "name                   0\n",
       "reviews.date           0\n",
       "reviews.didPurchase    0\n",
       "reviews.doRecommend    0\n",
       "reviews.rating         0\n",
       "reviews.text           0\n",
       "reviews.title          0\n",
       "dtype: int64"
      ]
     },
     "execution_count": 20,
     "metadata": {},
     "output_type": "execute_result"
    }
   ],
   "source": [
    "nlp_dataset.isnull().sum()"
   ]
  },
  {
   "cell_type": "code",
   "execution_count": 21,
   "id": "ff68618d-f113-4828-92a1-35f504872dbe",
   "metadata": {},
   "outputs": [],
   "source": [
    "nlp_dataset['dateAdded'] = pd.to_datetime(nlp_dataset['dateAdded']).dt.date"
   ]
  },
  {
   "cell_type": "code",
   "execution_count": 22,
   "id": "44212d75-a9b7-4d5e-85e0-67459a88fe2b",
   "metadata": {},
   "outputs": [
    {
     "data": {
      "text/plain": [
       "False    60332\n",
       "True         8\n",
       "Name: brand, dtype: int64"
      ]
     },
     "execution_count": 22,
     "metadata": {},
     "output_type": "execute_result"
    }
   ],
   "source": [
    "## row 26327\n",
    "(nlp_dataset['brand'] == 'Concept Housewares').value_counts()"
   ]
  },
  {
   "cell_type": "code",
   "execution_count": 23,
   "id": "153c43c7-c2fa-44f8-bb4d-8f343c838df0",
   "metadata": {},
   "outputs": [],
   "source": [
    "nlp_dataset.drop(nlp_dataset[nlp_dataset['brand'] == 'Concept Housewares'].index, inplace = True)"
   ]
  },
  {
   "cell_type": "code",
   "execution_count": 24,
   "id": "ee80d5ad-e630-4a2e-8296-e34a04115805",
   "metadata": {},
   "outputs": [],
   "source": [
    "nlp_dataset['reviews.date'] = pd.to_datetime(nlp_dataset['reviews.date']).dt.date"
   ]
  },
  {
   "cell_type": "code",
   "execution_count": 25,
   "id": "3f17b4ae-9676-4eef-9d0a-6c2fdfee2952",
   "metadata": {},
   "outputs": [
    {
     "name": "stdout",
     "output_type": "stream",
     "text": [
      "<class 'pandas.core.frame.DataFrame'>\n",
      "Int64Index: 60332 entries, 3 to 71043\n",
      "Data columns (total 9 columns):\n",
      " #   Column               Non-Null Count  Dtype \n",
      "---  ------               --------------  ----- \n",
      " 0   brand                60332 non-null  object\n",
      " 1   dateAdded            60332 non-null  object\n",
      " 2   name                 60332 non-null  object\n",
      " 3   reviews.date         60332 non-null  object\n",
      " 4   reviews.didPurchase  60332 non-null  bool  \n",
      " 5   reviews.doRecommend  60332 non-null  object\n",
      " 6   reviews.rating       60332 non-null  int64 \n",
      " 7   reviews.text         60332 non-null  object\n",
      " 8   reviews.title        60332 non-null  object\n",
      "dtypes: bool(1), int64(1), object(7)\n",
      "memory usage: 4.2+ MB\n"
     ]
    }
   ],
   "source": [
    "nlp_dataset.info()"
   ]
  },
  {
   "cell_type": "code",
   "execution_count": 26,
   "id": "bed51bd7-9746-4cc1-ba89-50a4c7802b19",
   "metadata": {},
   "outputs": [],
   "source": [
    "nlp_dataset.to_csv(\"nlp_dataset.csv\", index = False)"
   ]
  },
  {
   "cell_type": "code",
   "execution_count": 27,
   "id": "a5dac821-0dfe-4a1a-96be-2e33c4cbf000",
   "metadata": {},
   "outputs": [],
   "source": [
    "def preprocess_text(sen):\n",
    " \n",
    "    sentence = sen\n",
    "    # Remove everything except a-z, A-Z\n",
    "    sentence = re.sub('[^a-zA-Z0-9]', ' ', sentence)\n",
    " \n",
    "    # Removing multiple spaces\n",
    "    sentence = re.sub(r'\\s+', ' ', sentence)\n",
    " \n",
    "    return sentence"
   ]
  },
  {
   "cell_type": "code",
   "execution_count": 29,
   "id": "5a62fac9-3aad-422c-bca4-aa290c14e1f1",
   "metadata": {},
   "outputs": [],
   "source": [
    "docs = []  ## <class 'list'>\n",
    "for sen in reviews:\n",
    "    docs.append(preprocess_text(sen))"
   ]
  },
  {
   "cell_type": "code",
   "execution_count": 30,
   "id": "b34eb074-b863-4cd8-9507-ca24ec2338be",
   "metadata": {},
   "outputs": [
    {
     "ename": "NameError",
     "evalue": "name 'Tokenizer' is not defined",
     "output_type": "error",
     "traceback": [
      "\u001b[1;31m---------------------------------------------------------------------------\u001b[0m",
      "\u001b[1;31mNameError\u001b[0m                                 Traceback (most recent call last)",
      "\u001b[1;32m~\\AppData\\Local\\Temp/ipykernel_9148/1984738115.py\u001b[0m in \u001b[0;36m<module>\u001b[1;34m\u001b[0m\n\u001b[0;32m      3\u001b[0m     \u001b[1;34m\"I like it very much\"\u001b[0m\u001b[1;33m\u001b[0m\u001b[1;33m\u001b[0m\u001b[0m\n\u001b[0;32m      4\u001b[0m             ] \n\u001b[1;32m----> 5\u001b[1;33m \u001b[0mtokenizer\u001b[0m \u001b[1;33m=\u001b[0m \u001b[0mTokenizer\u001b[0m\u001b[1;33m(\u001b[0m\u001b[1;33m)\u001b[0m\u001b[1;33m\u001b[0m\u001b[1;33m\u001b[0m\u001b[0m\n\u001b[0m\u001b[0;32m      6\u001b[0m \u001b[0mtokenizer\u001b[0m\u001b[1;33m.\u001b[0m\u001b[0mfit_on_texts\u001b[0m\u001b[1;33m(\u001b[0m\u001b[0msome_comments\u001b[0m\u001b[1;33m)\u001b[0m\u001b[1;33m\u001b[0m\u001b[1;33m\u001b[0m\u001b[0m\n\u001b[0;32m      7\u001b[0m \u001b[1;33m\u001b[0m\u001b[0m\n",
      "\u001b[1;31mNameError\u001b[0m: name 'Tokenizer' is not defined"
     ]
    }
   ],
   "source": [
    "some_comments = [\n",
    "    \"A very good product\", \n",
    "    \"I like it very much\" \n",
    "            ] \n",
    "tokenizer = Tokenizer() \n",
    "tokenizer.fit_on_texts(some_comments) \n",
    " \n",
    "tokenizer.word_index"
   ]
  },
  {
   "cell_type": "code",
   "execution_count": null,
   "id": "1a17726d-2480-41e6-9ad7-0748e3dc58f2",
   "metadata": {},
   "outputs": [],
   "source": []
  }
 ],
 "metadata": {
  "kernelspec": {
   "display_name": "Python 3 (ipykernel)",
   "language": "python",
   "name": "python3"
  },
  "language_info": {
   "codemirror_mode": {
    "name": "ipython",
    "version": 3
   },
   "file_extension": ".py",
   "mimetype": "text/x-python",
   "name": "python",
   "nbconvert_exporter": "python",
   "pygments_lexer": "ipython3",
   "version": "3.9.7"
  }
 },
 "nbformat": 4,
 "nbformat_minor": 5
}
