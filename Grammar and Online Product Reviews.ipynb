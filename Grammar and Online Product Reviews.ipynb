{
 "cells": [
  {
   "cell_type": "markdown",
   "id": "253cdb08-1e61-4a1b-b24d-989533b685a4",
   "metadata": {},
   "source": [
    "# Grammar and Online Product Reviews"
   ]
  },
  {
   "cell_type": "markdown",
   "id": "0b86fa1f-a93f-4237-a653-7390374b92e4",
   "metadata": {},
   "source": [
    "#### -------------------------------------------------------------------------------------------------------------------------------------------------"
   ]
  },
  {
   "cell_type": "markdown",
   "id": "7a1a230c-180b-4afe-af7b-87208a941b81",
   "metadata": {},
   "source": [
    "#### This is a list of over 71,045 reviews from 1,000 different products provided by Datafiniti's Product Database. The dataset includes the text and title of the review, the name and manufacturer of the product, reviewer metadata, and more."
   ]
  },
  {
   "cell_type": "markdown",
   "id": "f079d602-d005-40b6-a59d-26c995af26aa",
   "metadata": {},
   "source": [
    "#### -------------------------------------------------------------------------------------------------------------------------------------------------"
   ]
  },
  {
   "cell_type": "markdown",
   "id": "1277bf3c-6b06-4573-bea2-354d4e9a3b4c",
   "metadata": {},
   "source": [
    "#### Import libraries"
   ]
  },
  {
   "cell_type": "code",
   "execution_count": 155,
   "id": "5125fb41-f6c8-4923-9f73-8e9d20f04a7c",
   "metadata": {},
   "outputs": [],
   "source": [
    "import string\n",
    "import numpy as np\n",
    "import pandas as pd\n",
    "import re\n",
    "\n",
    "from keras.preprocessing.text import Tokenizer\n",
    "from keras.preprocessing.sequence import pad_sequences\n",
    "\n",
    "from keras.utils import np_utils\n",
    "from keras.utils.np_utils import to_categorical\n",
    "from sklearn.preprocessing import LabelEncoder\n",
    "from numpy import loadtxt\n",
    "\n",
    "from nltk.stem.wordnet import WordNetLemmatizer\n",
    "from nltk.tokenize import RegexpTokenizer"
   ]
  },
  {
   "cell_type": "markdown",
   "id": "692ff986-98c8-4b59-84db-6d6fe0d0f5ed",
   "metadata": {},
   "source": [
    "#### -------------------------------------------------------------------------------------------------------------------------------------------------"
   ]
  },
  {
   "cell_type": "markdown",
   "id": "c73109a8-44e5-484d-a166-1cabb516b4b5",
   "metadata": {},
   "source": [
    "#### Read the dataset"
   ]
  },
  {
   "cell_type": "code",
   "execution_count": 156,
   "id": "6359fc86-fa1c-48cb-bd33-c9cce66e88c0",
   "metadata": {},
   "outputs": [],
   "source": [
    "original_dataset = pd.read_csv('GrammarandProductReviews.csv')\n",
    "nlp_dataset = original_dataset"
   ]
  },
  {
   "cell_type": "markdown",
   "id": "cd16b677-e774-43ca-bf51-38504b98cb40",
   "metadata": {},
   "source": [
    "#### -------------------------------------------------------------------------------------------------------------------------------------------------"
   ]
  },
  {
   "cell_type": "markdown",
   "id": "a9da6ece-c7f6-41e6-a186-06f166b5c694",
   "metadata": {},
   "source": [
    "## Data preprocessing based on NLP Tasks"
   ]
  },
  {
   "cell_type": "code",
   "execution_count": 157,
   "id": "77dd763d-08e8-4016-9275-6944cd6b1302",
   "metadata": {},
   "outputs": [
    {
     "data": {
      "text/plain": [
       "(71044, 25)"
      ]
     },
     "execution_count": 157,
     "metadata": {},
     "output_type": "execute_result"
    }
   ],
   "source": [
    "nlp_dataset.shape"
   ]
  },
  {
   "cell_type": "code",
   "execution_count": 158,
   "id": "f070ed9b-8209-40dc-a842-a55ec84e2a7e",
   "metadata": {},
   "outputs": [
    {
     "data": {
      "text/plain": [
       "id                          0\n",
       "brand                       0\n",
       "categories                  0\n",
       "dateAdded                   0\n",
       "dateUpdated                 0\n",
       "ean                     31979\n",
       "keys                        0\n",
       "manufacturer              141\n",
       "manufacturerNumber        203\n",
       "name                        0\n",
       "reviews.date               67\n",
       "reviews.dateAdded           0\n",
       "reviews.dateSeen            0\n",
       "reviews.didPurchase     38886\n",
       "reviews.doRecommend     10615\n",
       "reviews.id              38886\n",
       "reviews.numHelpful      38536\n",
       "reviews.rating              0\n",
       "reviews.sourceURLs          0\n",
       "reviews.text               36\n",
       "reviews.title             476\n",
       "reviews.userCity        65634\n",
       "reviews.userProvince    70595\n",
       "reviews.username           96\n",
       "upc                         2\n",
       "dtype: int64"
      ]
     },
     "execution_count": 158,
     "metadata": {},
     "output_type": "execute_result"
    }
   ],
   "source": [
    "nlp_dataset.isnull().sum()"
   ]
  },
  {
   "cell_type": "markdown",
   "id": "45ff461f-9c10-4897-aa9b-a7057be251bb",
   "metadata": {},
   "source": [
    "#### -------------------------------------------------------------------------------------------------------------------------------------------------"
   ]
  },
  {
   "cell_type": "markdown",
   "id": "85ee2248-67a9-4a8d-a9e2-9383f514741f",
   "metadata": {},
   "source": [
    "#### Removing columns `id`, `ean`, `keys`, `manufacturer`, `manufacturerNumber`, `reviews.id`, `reviews.sourceURLs`, `upc`, `reviews.UserCity`, `reviews.userProvince`, `reviews.username`, `reviews.numHelpful`"
   ]
  },
  {
   "cell_type": "code",
   "execution_count": 159,
   "id": "35bb1737-a474-493b-9e49-bc60424e5c5a",
   "metadata": {},
   "outputs": [],
   "source": [
    "nlp_dataset.drop(['id', 'categories', 'ean', 'keys', 'manufacturer', 'manufacturerNumber', 'reviews.id', 'reviews.sourceURLs', 'upc', 'reviews.userCity', 'dateUpdated', 'reviews.dateSeen', 'reviews.userProvince', 'reviews.username', 'reviews.dateAdded', 'reviews.numHelpful'], axis=1, inplace=True)"
   ]
  },
  {
   "cell_type": "markdown",
   "id": "687b8b9a-a0c9-4dbc-a9dd-8191105bf59f",
   "metadata": {},
   "source": [
    "#### -------------------------------------------------------------------------------------------------------------------------------------------------"
   ]
  },
  {
   "cell_type": "markdown",
   "id": "dd645db1-9bf4-4a2d-899c-315d14f529fe",
   "metadata": {},
   "source": [
    "#### Filtering columns `reviews.didPurchase` and `reviews.text` "
   ]
  },
  {
   "cell_type": "code",
   "execution_count": 160,
   "id": "e4872fa1-5549-4907-acc1-13bef6e18af2",
   "metadata": {},
   "outputs": [],
   "source": [
    "nlp_dataset.dropna(subset = ['reviews.text'], inplace=True) ## 36 null values\n",
    "## nlp_dataset.dropna(subset = ['reviews.didPurchase'], inplace=True) \n",
    "nlp_dataset.dropna(subset = ['reviews.doRecommend'], inplace=True) ## 10615 null values \n",
    "nlp_dataset.dropna(subset = ['reviews.title'], inplace=True) ## 476 null values"
   ]
  },
  {
   "cell_type": "markdown",
   "id": "bad02b35-a16c-417d-8f18-666a2095b2f2",
   "metadata": {},
   "source": [
    "#### -------------------------------------------------------------------------------------------------------------------------------------------------"
   ]
  },
  {
   "cell_type": "markdown",
   "id": "da16f04c-5ba4-491a-ba90-34542d43e16b",
   "metadata": {},
   "source": [
    "#### Dimension of the dataset after filtering, removing the null values"
   ]
  },
  {
   "cell_type": "code",
   "execution_count": 161,
   "id": "0d04bcd0-2865-4ae1-88e2-8c1096b3dcc1",
   "metadata": {},
   "outputs": [
    {
     "data": {
      "text/plain": [
       "(60340, 9)"
      ]
     },
     "execution_count": 161,
     "metadata": {},
     "output_type": "execute_result"
    }
   ],
   "source": [
    "nlp_dataset.shape"
   ]
  },
  {
   "cell_type": "code",
   "execution_count": 162,
   "id": "2fbb14d0-4d41-4b97-9941-ef75a035ba27",
   "metadata": {},
   "outputs": [
    {
     "data": {
      "text/plain": [
       "33159"
      ]
     },
     "execution_count": 162,
     "metadata": {},
     "output_type": "execute_result"
    }
   ],
   "source": [
    "nlp_dataset['reviews.didPurchase'].isnull().sum()"
   ]
  },
  {
   "cell_type": "code",
   "execution_count": 163,
   "id": "feb2a94c-1a13-4c66-a01a-200184c0c73d",
   "metadata": {},
   "outputs": [
    {
     "data": {
      "text/plain": [
       "0"
      ]
     },
     "execution_count": 163,
     "metadata": {},
     "output_type": "execute_result"
    }
   ],
   "source": [
    "nlp_dataset['reviews.text'].isnull().sum()"
   ]
  },
  {
   "cell_type": "code",
   "execution_count": 164,
   "id": "2a26156d-1a19-4e69-ab77-df3a06074859",
   "metadata": {},
   "outputs": [
    {
     "data": {
      "text/plain": [
       "0"
      ]
     },
     "execution_count": 164,
     "metadata": {},
     "output_type": "execute_result"
    }
   ],
   "source": [
    "nlp_dataset['reviews.doRecommend'].isnull().sum()"
   ]
  },
  {
   "cell_type": "code",
   "execution_count": 165,
   "id": "a57f421c-0cd4-4289-a1c8-49f9770db515",
   "metadata": {},
   "outputs": [
    {
     "data": {
      "text/plain": [
       "0"
      ]
     },
     "execution_count": 165,
     "metadata": {},
     "output_type": "execute_result"
    }
   ],
   "source": [
    "nlp_dataset['reviews.title'].isnull().sum()"
   ]
  },
  {
   "cell_type": "markdown",
   "id": "8b54137e-219e-463d-b2fa-955114257dd1",
   "metadata": {},
   "source": [
    "#### -------------------------------------------------------------------------------------------------------------------------------------------------"
   ]
  },
  {
   "cell_type": "markdown",
   "id": "90603688-af3b-4f07-9b39-f07647ae48eb",
   "metadata": {},
   "source": [
    "#### Filling the missing data of `reviews.didPurchase`"
   ]
  },
  {
   "cell_type": "code",
   "execution_count": 166,
   "id": "39d40af7-0d88-418a-bac3-4664d5193bd7",
   "metadata": {},
   "outputs": [
    {
     "data": {
      "text/plain": [
       "True    60340\n",
       "Name: reviews.doRecommend, dtype: int64"
      ]
     },
     "execution_count": 166,
     "metadata": {},
     "output_type": "execute_result"
    }
   ],
   "source": [
    "nlp_dataset['reviews.doRecommend'].notnull().value_counts()"
   ]
  },
  {
   "cell_type": "code",
   "execution_count": 167,
   "id": "dd460abb-9dee-4dbc-a85f-184928d73e56",
   "metadata": {},
   "outputs": [],
   "source": [
    "nlp_dataset['reviews.didPurchase'].fillna(nlp_dataset['reviews.doRecommend'], inplace=True)"
   ]
  },
  {
   "cell_type": "code",
   "execution_count": 168,
   "id": "f5ba303c-ffee-4d79-8da0-48c9556b7536",
   "metadata": {},
   "outputs": [
    {
     "data": {
      "text/plain": [
       "0"
      ]
     },
     "execution_count": 168,
     "metadata": {},
     "output_type": "execute_result"
    }
   ],
   "source": [
    "nlp_dataset['reviews.didPurchase'].isnull().sum()"
   ]
  },
  {
   "cell_type": "markdown",
   "id": "ea35a06f-5973-4251-9a8c-99be48f2523c",
   "metadata": {},
   "source": [
    "#### -------------------------------------------------------------------------------------------------------------------------------------------------"
   ]
  },
  {
   "cell_type": "markdown",
   "id": "93599371-8e00-47d1-bbf4-3836f34b7d6a",
   "metadata": {},
   "source": [
    "#### Removing the duplicated rows"
   ]
  },
  {
   "cell_type": "code",
   "execution_count": 169,
   "id": "6ae66cc3-117e-47eb-a0e6-54acf8d8e6ba",
   "metadata": {},
   "outputs": [
    {
     "data": {
      "text/plain": [
       "False    60228\n",
       "True       112\n",
       "dtype: int64"
      ]
     },
     "execution_count": 169,
     "metadata": {},
     "output_type": "execute_result"
    }
   ],
   "source": [
    "nlp_dataset.duplicated().value_counts()"
   ]
  },
  {
   "cell_type": "code",
   "execution_count": 170,
   "id": "b472996e-fc1c-46a3-ab14-c3babd25f3b2",
   "metadata": {},
   "outputs": [],
   "source": [
    "nlp_dataset.drop_duplicates(keep=False,inplace=True)"
   ]
  },
  {
   "cell_type": "code",
   "execution_count": 171,
   "id": "f41e7eac-26bb-4478-8b5b-bf9a63108a34",
   "metadata": {},
   "outputs": [
    {
     "data": {
      "text/plain": [
       "False    60116\n",
       "dtype: int64"
      ]
     },
     "execution_count": 171,
     "metadata": {},
     "output_type": "execute_result"
    }
   ],
   "source": [
    "nlp_dataset.duplicated().value_counts()"
   ]
  },
  {
   "cell_type": "markdown",
   "id": "e44d9c3c-7fed-4a9b-8a2d-8f3d99ecec28",
   "metadata": {},
   "source": [
    "#### -------------------------------------------------------------------------------------------------------------------------------------------------"
   ]
  },
  {
   "cell_type": "code",
   "execution_count": 172,
   "id": "bd298453-b6eb-42b1-b538-e06987ad886b",
   "metadata": {},
   "outputs": [
    {
     "name": "stdout",
     "output_type": "stream",
     "text": [
      "<class 'pandas.core.frame.DataFrame'>\n",
      "Int64Index: 60116 entries, 3 to 71043\n",
      "Data columns (total 9 columns):\n",
      " #   Column               Non-Null Count  Dtype \n",
      "---  ------               --------------  ----- \n",
      " 0   brand                60116 non-null  object\n",
      " 1   dateAdded            60116 non-null  object\n",
      " 2   name                 60116 non-null  object\n",
      " 3   reviews.date         60116 non-null  object\n",
      " 4   reviews.didPurchase  60116 non-null  bool  \n",
      " 5   reviews.doRecommend  60116 non-null  object\n",
      " 6   reviews.rating       60116 non-null  int64 \n",
      " 7   reviews.text         60116 non-null  object\n",
      " 8   reviews.title        60116 non-null  object\n",
      "dtypes: bool(1), int64(1), object(7)\n",
      "memory usage: 4.2+ MB\n"
     ]
    }
   ],
   "source": [
    "nlp_dataset.info()"
   ]
  },
  {
   "cell_type": "markdown",
   "id": "24de4a1c-0ea6-4a09-b592-8c547476e11d",
   "metadata": {},
   "source": [
    "#### -------------------------------------------------------------------------------------------------------------------------------------------------"
   ]
  },
  {
   "cell_type": "markdown",
   "id": "e7c99346-be15-4f2b-b9cb-f5a08a5c0e8e",
   "metadata": {},
   "source": [
    "#### Input and output variables"
   ]
  },
  {
   "cell_type": "code",
   "execution_count": 173,
   "id": "98f79055-b3c7-4b97-b30a-12ce802a2c4d",
   "metadata": {},
   "outputs": [],
   "source": [
    "reviews = nlp_dataset['reviews.text']\n",
    "y = nlp_dataset['reviews.didPurchase']"
   ]
  },
  {
   "cell_type": "markdown",
   "id": "34dffe72-ac80-44b8-b7d6-bcbe4f23ddcf",
   "metadata": {},
   "source": [
    "#### -------------------------------------------------------------------------------------------------------------------------------------------------"
   ]
  },
  {
   "cell_type": "markdown",
   "id": "55404635-b310-4c74-bb8d-8ebd5b2e68e4",
   "metadata": {},
   "source": [
    "#### Number of purchased and not purchased products"
   ]
  },
  {
   "cell_type": "code",
   "execution_count": 174,
   "id": "c7ead892-83f4-4ba7-9a71-a08fdaafd778",
   "metadata": {},
   "outputs": [
    {
     "data": {
      "text/html": [
       "<div>\n",
       "<style scoped>\n",
       "    .dataframe tbody tr th:only-of-type {\n",
       "        vertical-align: middle;\n",
       "    }\n",
       "\n",
       "    .dataframe tbody tr th {\n",
       "        vertical-align: top;\n",
       "    }\n",
       "\n",
       "    .dataframe thead th {\n",
       "        text-align: right;\n",
       "    }\n",
       "</style>\n",
       "<table border=\"1\" class=\"dataframe\">\n",
       "  <thead>\n",
       "    <tr style=\"text-align: right;\">\n",
       "      <th></th>\n",
       "      <th>Review Purchased</th>\n",
       "    </tr>\n",
       "  </thead>\n",
       "  <tbody>\n",
       "    <tr>\n",
       "      <th>True</th>\n",
       "      <td>35119</td>\n",
       "    </tr>\n",
       "    <tr>\n",
       "      <th>False</th>\n",
       "      <td>24997</td>\n",
       "    </tr>\n",
       "  </tbody>\n",
       "</table>\n",
       "</div>"
      ],
      "text/plain": [
       "       Review Purchased\n",
       "True              35119\n",
       "False             24997"
      ]
     },
     "execution_count": 174,
     "metadata": {},
     "output_type": "execute_result"
    }
   ],
   "source": [
    "y.value_counts().to_frame().rename(columns = {'reviews.didPurchase' : 'Review Purchased'})"
   ]
  },
  {
   "cell_type": "markdown",
   "id": "bdc616ee-2b31-499c-a1d5-59a903b4d739",
   "metadata": {},
   "source": [
    "#### -------------------------------------------------------------------------------------------------------------------------------------------------"
   ]
  },
  {
   "cell_type": "code",
   "execution_count": 175,
   "id": "8899815e-bd58-4dcd-ac1c-c2eea6a42aa3",
   "metadata": {},
   "outputs": [
    {
     "data": {
      "text/plain": [
       "(60116, 9)"
      ]
     },
     "execution_count": 175,
     "metadata": {},
     "output_type": "execute_result"
    }
   ],
   "source": [
    "nlp_dataset.shape"
   ]
  },
  {
   "cell_type": "code",
   "execution_count": 176,
   "id": "31c1f17d-9bce-4340-b67c-5c4dbb4576ab",
   "metadata": {},
   "outputs": [
    {
     "data": {
      "text/plain": [
       "brand                  0\n",
       "dateAdded              0\n",
       "name                   0\n",
       "reviews.date           0\n",
       "reviews.didPurchase    0\n",
       "reviews.doRecommend    0\n",
       "reviews.rating         0\n",
       "reviews.text           0\n",
       "reviews.title          0\n",
       "dtype: int64"
      ]
     },
     "execution_count": 176,
     "metadata": {},
     "output_type": "execute_result"
    }
   ],
   "source": [
    "nlp_dataset.isnull().sum()"
   ]
  },
  {
   "cell_type": "markdown",
   "id": "c457cef2-9185-4b59-93fe-6ffafa4db356",
   "metadata": {},
   "source": [
    "#### -------------------------------------------------------------------------------------------------------------------------------------------------"
   ]
  },
  {
   "cell_type": "markdown",
   "id": "76c75adf-199e-4c10-a446-0b6b431a966c",
   "metadata": {},
   "source": [
    "#### Formating the dates"
   ]
  },
  {
   "cell_type": "code",
   "execution_count": 177,
   "id": "ff68618d-f113-4828-92a1-35f504872dbe",
   "metadata": {},
   "outputs": [],
   "source": [
    "nlp_dataset['dateAdded'] = pd.to_datetime(nlp_dataset['dateAdded']).dt.date"
   ]
  },
  {
   "cell_type": "code",
   "execution_count": 178,
   "id": "44212d75-a9b7-4d5e-85e0-67459a88fe2b",
   "metadata": {},
   "outputs": [
    {
     "data": {
      "text/plain": [
       "False    60108\n",
       "True         8\n",
       "Name: brand, dtype: int64"
      ]
     },
     "execution_count": 178,
     "metadata": {},
     "output_type": "execute_result"
    }
   ],
   "source": [
    "## row 26327\n",
    "(nlp_dataset['brand'] == 'Concept Housewares').value_counts()"
   ]
  },
  {
   "cell_type": "code",
   "execution_count": 179,
   "id": "153c43c7-c2fa-44f8-bb4d-8f343c838df0",
   "metadata": {},
   "outputs": [],
   "source": [
    "nlp_dataset.drop(nlp_dataset[nlp_dataset['brand'] == 'Concept Housewares'].index, inplace = True)"
   ]
  },
  {
   "cell_type": "code",
   "execution_count": 180,
   "id": "ee80d5ad-e630-4a2e-8296-e34a04115805",
   "metadata": {},
   "outputs": [],
   "source": [
    "nlp_dataset['reviews.date'] = pd.to_datetime(nlp_dataset['reviews.date']).dt.date"
   ]
  },
  {
   "cell_type": "code",
   "execution_count": 181,
   "id": "3f17b4ae-9676-4eef-9d0a-6c2fdfee2952",
   "metadata": {},
   "outputs": [
    {
     "name": "stdout",
     "output_type": "stream",
     "text": [
      "<class 'pandas.core.frame.DataFrame'>\n",
      "Int64Index: 60108 entries, 3 to 71043\n",
      "Data columns (total 9 columns):\n",
      " #   Column               Non-Null Count  Dtype \n",
      "---  ------               --------------  ----- \n",
      " 0   brand                60108 non-null  object\n",
      " 1   dateAdded            60108 non-null  object\n",
      " 2   name                 60108 non-null  object\n",
      " 3   reviews.date         60108 non-null  object\n",
      " 4   reviews.didPurchase  60108 non-null  bool  \n",
      " 5   reviews.doRecommend  60108 non-null  object\n",
      " 6   reviews.rating       60108 non-null  int64 \n",
      " 7   reviews.text         60108 non-null  object\n",
      " 8   reviews.title        60108 non-null  object\n",
      "dtypes: bool(1), int64(1), object(7)\n",
      "memory usage: 4.2+ MB\n"
     ]
    }
   ],
   "source": [
    "nlp_dataset.info()"
   ]
  },
  {
   "cell_type": "markdown",
   "id": "417f4e65-1b52-419f-9535-3252fc11cd9d",
   "metadata": {},
   "source": [
    "#### -------------------------------------------------------------------------------------------------------------------------------------------------"
   ]
  },
  {
   "cell_type": "markdown",
   "id": "76f95d3a-c44d-4773-b362-8bc780739052",
   "metadata": {},
   "source": [
    "#### Saving the preprocessed dataset"
   ]
  },
  {
   "cell_type": "code",
   "execution_count": 182,
   "id": "bed51bd7-9746-4cc1-ba89-50a4c7802b19",
   "metadata": {},
   "outputs": [],
   "source": [
    "nlp_dataset.to_csv(\"nlp_dataset.csv\", index = False)"
   ]
  },
  {
   "cell_type": "markdown",
   "id": "d072b8ae-507a-490c-858e-8926951349f7",
   "metadata": {},
   "source": [
    "#### -------------------------------------------------------------------------------------------------------------------------------------------------"
   ]
  },
  {
   "cell_type": "markdown",
   "id": "7608b887-9d78-4858-ae80-f77445f0f9de",
   "metadata": {},
   "source": [
    "#### Removing not needed characters"
   ]
  },
  {
   "cell_type": "code",
   "execution_count": 183,
   "id": "a5dac821-0dfe-4a1a-96be-2e33c4cbf000",
   "metadata": {},
   "outputs": [],
   "source": [
    "def preprocess_text(sen):\n",
    " \n",
    "    sentence = sen\n",
    "    # Remove everything except a-z, A-Z\n",
    "    sentence = re.sub('[^a-zA-Z0-9]', ' ', sentence)\n",
    " \n",
    "    # Removing multiple spaces\n",
    "    sentence = re.sub(r'\\s+', ' ', sentence)\n",
    " \n",
    "    return sentence"
   ]
  },
  {
   "cell_type": "code",
   "execution_count": 184,
   "id": "5a62fac9-3aad-422c-bca4-aa290c14e1f1",
   "metadata": {},
   "outputs": [],
   "source": [
    "docs = []  ## <class 'list'>\n",
    "for sen in reviews:\n",
    "    docs.append(preprocess_text(sen))"
   ]
  },
  {
   "cell_type": "markdown",
   "id": "5f621643-410e-458d-b1f1-63438d221175",
   "metadata": {},
   "source": [
    "#### -------------------------------------------------------------------------------------------------------------------------------------------------"
   ]
  },
  {
   "cell_type": "markdown",
   "id": "66450f60-3ff4-4694-acb1-f24823f44a0d",
   "metadata": {},
   "source": [
    "#### Removing not needed words"
   ]
  },
  {
   "cell_type": "code",
   "execution_count": 185,
   "id": "d9b29f0f-a7e8-43e2-97b1-c13563aaa410",
   "metadata": {},
   "outputs": [],
   "source": [
    "stop_words = set(line.strip() for line in open('stopwords.txt'))\n",
    "exclude = set(string.punctuation) \n",
    "def docs_preprocessor(docs):\n",
    "    tokenizer = RegexpTokenizer(r'\\w+')\n",
    "    for idx in range(len(docs)):\n",
    "        docs[idx] = docs[idx].lower()  # Convert to lowercase.\n",
    "        docs[idx] = tokenizer.tokenize(docs[idx])  # Split into words.\n",
    "    # Remove numbers, but not words that contain numbers.\n",
    "    docs = [[token for token in doc if not token.isdigit()] for doc in docs]\n",
    "    # Remove stop words in documents\n",
    "    docs = [[token for token in doc if not token in stop_words] for doc in docs]\n",
    "    # Remove punctuations in documents\n",
    "    docs = [[token for token in doc if not token in exclude] for doc in docs]\n",
    "    # Remove words that are only one character.\n",
    "    docs = [[token for token in doc if len(token) > 2] for doc in docs]\n",
    "  \n",
    "    return docs\n",
    "# Perform function on our document\n",
    "documents = docs_preprocessor(docs)"
   ]
  },
  {
   "cell_type": "markdown",
   "id": "756c56f9-d71a-4833-977c-144e6f63c2ca",
   "metadata": {},
   "source": [
    "#### -------------------------------------------------------------------------------------------------------------------------------------------------"
   ]
  },
  {
   "cell_type": "markdown",
   "id": "f1beab25-65ae-421f-bc1f-b255a2b0903f",
   "metadata": {},
   "source": [
    "#### Encoding the output variable"
   ]
  },
  {
   "cell_type": "code",
   "execution_count": 186,
   "id": "8371c02c-3f0f-4488-aa8a-446cef4d5ce6",
   "metadata": {},
   "outputs": [
    {
     "data": {
      "text/plain": [
       "array([[1., 0.],\n",
       "       [1., 0.],\n",
       "       [1., 0.],\n",
       "       ...,\n",
       "       [1., 0.],\n",
       "       [0., 1.],\n",
       "       [0., 1.]], dtype=float32)"
      ]
     },
     "execution_count": 186,
     "metadata": {},
     "output_type": "execute_result"
    }
   ],
   "source": [
    "encoder = LabelEncoder()\n",
    "encoder.fit(y)\n",
    "encoded_y = encoder.transform(y)\n",
    "\n",
    "# convert integers to dummy variables (i.e. one hot encoded)\n",
    "dummy_y = np_utils.to_categorical(encoded_y)\n",
    "dummy_y"
   ]
  },
  {
   "cell_type": "code",
   "execution_count": 187,
   "id": "b34eb074-b863-4cd8-9507-ca24ec2338be",
   "metadata": {},
   "outputs": [
    {
     "data": {
      "text/plain": [
       "{'very': 1,\n",
       " 'a': 2,\n",
       " 'good': 3,\n",
       " 'product': 4,\n",
       " 'i': 5,\n",
       " 'like': 6,\n",
       " 'it': 7,\n",
       " 'much': 8}"
      ]
     },
     "execution_count": 187,
     "metadata": {},
     "output_type": "execute_result"
    }
   ],
   "source": [
    "some_comments = [\n",
    "    \"A very good product\", \n",
    "    \"I like it very much\" \n",
    "            ] \n",
    "tokenizer = Tokenizer() \n",
    "tokenizer.fit_on_texts(some_comments) \n",
    " \n",
    "tokenizer.word_index"
   ]
  },
  {
   "cell_type": "code",
   "execution_count": null,
   "id": "4f18c4c5-6d01-4ab6-b523-ff005e4405f8",
   "metadata": {},
   "outputs": [],
   "source": []
  },
  {
   "cell_type": "code",
   "execution_count": 188,
   "id": "1a17726d-2480-41e6-9ad7-0748e3dc58f2",
   "metadata": {},
   "outputs": [
    {
     "name": "stderr",
     "output_type": "stream",
     "text": [
      "C:\\Users\\fatba\\anaconda3\\envs\\env_2\\lib\\site-packages\\keras_preprocessing\\text.py:180: UserWarning: The `nb_words` argument in `Tokenizer` has been renamed `num_words`.\n",
      "  warnings.warn('The `nb_words` argument in `Tokenizer` '\n"
     ]
    },
    {
     "name": "stdout",
     "output_type": "stream",
     "text": [
      "U gjetën 23677 tokena unik.\n"
     ]
    },
    {
     "data": {
      "text/plain": [
       "array([[   4, 9177,   18, ...,  179,  320,  373],\n",
       "       [ 357,   99,    6, ...,   94,    6,  382],\n",
       "       [  57,  280,   20, ...,   83,   29,   87],\n",
       "       ...,\n",
       "       [   0,    0,    0, ...,    0,  244,  144],\n",
       "       [  18,  148, 1763, ..., 1741,   37,  626],\n",
       "       [   0,    0,    0, ...,  149,  660, 6545]])"
      ]
     },
     "execution_count": 188,
     "metadata": {},
     "output_type": "execute_result"
    }
   ],
   "source": [
    "tokenizer = Tokenizer(nb_words=16000, lower=True )\n",
    "\n",
    "tokenizer.fit_on_texts(docs)\n",
    "\n",
    "sequences = tokenizer.texts_to_sequences(docs)\n",
    "\n",
    "word_index = tokenizer.word_index\n",
    "\n",
    "print('U gjetën %s tokena unik.' % len(word_index))\n",
    "\n",
    "# convert text to sequence of tokens and pad them to ensure equal length vectors \n",
    "x = pad_sequences(sequences, maxlen=25)\n",
    "x"
   ]
  },
  {
   "cell_type": "code",
   "execution_count": null,
   "id": "cec6d26e-53e4-4d35-a285-cb895c05501d",
   "metadata": {},
   "outputs": [],
   "source": []
  }
 ],
 "metadata": {
  "kernelspec": {
   "display_name": "Python 3 (ipykernel)",
   "language": "python",
   "name": "python3"
  },
  "language_info": {
   "codemirror_mode": {
    "name": "ipython",
    "version": 3
   },
   "file_extension": ".py",
   "mimetype": "text/x-python",
   "name": "python",
   "nbconvert_exporter": "python",
   "pygments_lexer": "ipython3",
   "version": "3.9.7"
  }
 },
 "nbformat": 4,
 "nbformat_minor": 5
}
